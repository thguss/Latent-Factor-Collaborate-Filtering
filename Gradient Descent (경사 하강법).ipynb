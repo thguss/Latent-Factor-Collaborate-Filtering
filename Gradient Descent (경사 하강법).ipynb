{
 "cells": [
  {
   "cell_type": "code",
   "execution_count": 14,
   "id": "3ebb6c3e",
   "metadata": {},
   "outputs": [],
   "source": [
    "import numpy as np\n",
    "import matplotlib.pyplot as plt\n",
    "%matplotlib inline"
   ]
  },
  {
   "cell_type": "code",
   "execution_count": 23,
   "id": "4f6a6281",
   "metadata": {},
   "outputs": [
    {
     "data": {
      "text/plain": [
       "<matplotlib.collections.PathCollection at 0x244b0971dc0>"
      ]
     },
     "execution_count": 23,
     "metadata": {},
     "output_type": "execute_result"
    },
    {
     "data": {
      "image/png": "[encoded data removed]",
      "text/plain": [
       "<Figure size 432x288 with 1 Axes>"
      ]
     },
     "metadata": {
      "needs_background": "light"
     },
     "output_type": "display_data"
    }
   ],
   "source": [
    "np.random.seed(0)\n",
    "\n",
    "# y = 4x + 6 을 근사 (w1=4. w0=6). 임의의 값은 노이즈를 위해 만듦.\n",
    "X = 2 * np.random.rand(100,1)\n",
    "y = 6 + 4*X+np.random.rand(100,1)\n",
    "\n",
    "# X, y 데이터 세트 산점도로 시각화\n",
    "plt.scatter(X, y)"
   ]
  },
  {
   "cell_type": "code",
   "execution_count": 24,
   "id": "d5f603e9",
   "metadata": {},
   "outputs": [],
   "source": [
    "# 인자값 : 실제 y값, 예측된 y값\n",
    "def get_cost(y, y_pred):\n",
    "    N = len(y)\n",
    "    cost = np.sum(np.square(y-y_pred))/N\n",
    "    return cost"
   ]
  },
  {
   "cell_type": "code",
   "execution_count": 25,
   "id": "fac74e5e",
   "metadata": {},
   "outputs": [],
   "source": [
    "# w1과 w0을 업데이트 할 w1_update, w0_update를 반환\n",
    "def get_weight_updates(w1, w0, X, y, learning_rate=0.01):\n",
    "    N = len(y)\n",
    "    \n",
    "    # 먼저 w1_update, w0_update를 각각 w1, w0의 shape와 동일한 크기를 가진 0 값으로 초기화\n",
    "    w1_update = np.zeros_like(w1)\n",
    "    w0_update = np.zeros_like(w0)\n",
    "    \n",
    "    # 예측 배열 계산하고 예측과 실제 값의 차이 계산\n",
    "    y_pred = np.dot(X, w1.T) + w0\n",
    "    diff = y-y_pred\n",
    "    \n",
    "    # w0_update를 dot 행렬 연산으로 구하기 위해 모둔 1값을 가진 행렬 생성\n",
    "    w0_factors = np.ones((N,1))\n",
    "    \n",
    "    # w1과 w0을 업데이트 할 w1_update와 w0_update 계산\n",
    "    w1_update = -(2/N)*learning_rate*(np.dot(X.T, diff))\n",
    "    w0_update = -(2/N)*learning_rate*(np.dot(w0_factors.T,diff))\n",
    "    \n",
    "    return w1_update, w0_update"
   ]
  },
  {
   "cell_type": "code",
   "execution_count": 26,
   "id": "b21fe4ea",
   "metadata": {},
   "outputs": [],
   "source": [
    "# 입력 인자 iters로 주어진 횟수만큼 반복적으로 w1과 w0을 업데이트 적용함\n",
    "def gradient_descent_steps(X, y, iters=10000):\n",
    "    # w0과 w1을 모두 0으로 초기화\n",
    "    w0 = np.zeros((1,1))\n",
    "    w1 = np.zeros((1,1))\n",
    "    \n",
    "    # 인자로 주어진 iters 만큼 반복적으로 get_weight_updates() 호출해 w1, w0 업데이트 수행\n",
    "    for i in range(iters):\n",
    "        w1_update, w0_update = get_weight_updates(w1, w0, X, y, learning_rate=0.01)\n",
    "        w1 = w1 - w1_update\n",
    "        w0 = w0 - w0_update\n",
    "    \n",
    "    return w1, w0"
   ]
  },
  {
   "cell_type": "code",
   "execution_count": 29,
   "id": "f5d65a4e",
   "metadata": {},
   "outputs": [
    {
     "name": "stdout",
     "output_type": "stream",
     "text": [
      "w1:4.028 w0:6.490\n",
      "Gradient Descent Total cost: 0.077548\n"
     ]
    }
   ],
   "source": [
    "w1, w0 = gradient_descent_steps(X, y, iters=1000)\n",
    "print(\"w1:{0:.3f} w0:{1:.3f}\".format(w1[0,0], w0[0,0]))\n",
    "y_pred = w1[0,0]*X + w0\n",
    "print('Gradient Descent Total cost: {0:4f}'.format(get_cost(y, y_pred)))"
   ]
  },
  {
   "cell_type": "code",
   "execution_count": 30,
   "id": "a6f3ab52",
   "metadata": {},
   "outputs": [
    {
     "data": {
      "text/plain": [
       "[<matplotlib.lines.Line2D at 0x244b0a48580>]"
      ]
     },
     "execution_count": 30,
     "metadata": {},
     "output_type": "execute_result"
    },
    {
     "data": {
      "image/png": "[encoded data removed]",
      "text/plain": [
       "<Figure size 432x288 with 1 Axes>"
      ]
     },
     "metadata": {
      "needs_background": "light"
     },
     "output_type": "display_data"
    }
   ],
   "source": [
    "plt.scatter(X, y)\n",
    "plt.plot(X, y_pred)"
   ]
  },
  {
   "cell_type": "code",
   "execution_count": 34,
   "id": "e9bee9f3",
   "metadata": {},
   "outputs": [],
   "source": [
    "# Stochastic Gradient (확률적 경사 하강법) : (미니 배치)확률적 경사 하강법\n",
    "def stochastic_gradient_descent_steps(X, y, batch_size=10, iters=1000):\n",
    "    w0 = np.zeros((1,1))\n",
    "    w1 = np.zeros((1,1))\n",
    "    \n",
    "    prev_cost = 100000\n",
    "    iter_index = 0\n",
    "    \n",
    "    for i in range(iters):\n",
    "        np.random.seed(i)\n",
    "        \n",
    "        # 전체 X, y 데이터에서 랜덤하게 batch_size만큼 데이터를 추출해 sample_X, sample_y로 저장\n",
    "        stochastic_random_index = np.random.permutation(X.shape[0])\n",
    "        sample_X = X[stochastic_random_index[0:batch_size]]\n",
    "        sample_y = y[stochastic_random_index[0:batch_size]]\n",
    "        \n",
    "        # 랜덤하게 batch_size만큼 추출된 데이터 기반으로 w1_update, w0_update 계산 후 업데이트\n",
    "        w1_update, w0_update = get_weight_updates(w1, w0, sample_X, sample_y, learning_rate=0.01)\n",
    "        w1 = w1 - w1_update\n",
    "        w0 = w0 - w0_update\n",
    "        \n",
    "    return w1, w0"
   ]
  },
  {
   "cell_type": "code",
   "execution_count": 36,
   "id": "6175834d",
   "metadata": {},
   "outputs": [
    {
     "name": "stdout",
     "output_type": "stream",
     "text": [
      "w1: 4.031 w0: 6.486\n",
      "Stochastic Gradient Descent Total: 0.0777\n"
     ]
    }
   ],
   "source": [
    "w1, w0 = stochastic_gradient_descent_steps(X, y, iters=1000)\n",
    "print(\"w1:\", round(w1[0,0], 3), \"w0:\", round(w0[0,0], 3))\n",
    "y_pred = w1[0,0]*X + w0\n",
    "print('Stochastic Gradient Descent Total: {0:.4f}'.format(get_cost(y, y_pred)))"
   ]
  },
  {
   "cell_type": "code",
   "execution_count": null,
   "id": "d79337e1",
   "metadata": {},
   "outputs": [],
   "source": []
  }
 ],
 "metadata": {
  "kernelspec": {
   "display_name": "Python 3",
   "language": "python",
   "name": "python3"
  },
  "language_info": {
   "codemirror_mode": {
    "name": "ipython",
    "version": 3
   },
   "file_extension": ".py",
   "mimetype": "text/x-python",
   "name": "python",
   "nbconvert_exporter": "python",
   "pygments_lexer": "ipython3",
   "version": "3.8.8"
  }
 },
 "nbformat": 4,
 "nbformat_minor": 5
}
